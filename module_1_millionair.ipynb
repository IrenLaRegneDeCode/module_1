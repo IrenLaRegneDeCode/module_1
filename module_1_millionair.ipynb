{
 "cells": [
  {
   "cell_type": "markdown",
   "metadata": {},
   "source": [
    "Вопрос 1. У какого фильма из списка самый большой бюджет?"
   ]
  },
  {
   "cell_type": "code",
   "execution_count": null,
   "metadata": {},
   "outputs": [],
   "source": [
    "from itertools import combinations\n",
    "\n",
    "import pandas as pd\n",
    "import collections\n",
    "\n",
    "movie = pd.read_csv('movie_bd_v5.csv')\n",
    "print(movie.info())\n",
    "with pd.option_context('display.max_rows', None, 'display.max_columns', None):\n",
    "    movie1 = movie.copy()  # копия основной таблицы, номерной код копии равен номеру задания\n",
    "\n",
    "    movie1 = movie1.groupby(['original_title'])['budget'].max().sort_values(ascending=False)\n",
    "\n",
    "    print('\"Задание 1: самый большой бюджет: ', movie1.head(1))"
   ]
  },
  {
   "cell_type": "markdown",
   "metadata": {},
   "source": [
    "Вопрос 2. Какой из фильмов самый длительный (в минутах)?"
   ]
  },
  {
   "cell_type": "code",
   "execution_count": 6,
   "metadata": {},
   "outputs": [
    {
     "name": "stdout",
     "output_type": "stream",
     "text": [
      "<class 'pandas.core.frame.DataFrame'>\n",
      "RangeIndex: 1889 entries, 0 to 1888\n",
      "Data columns (total 14 columns):\n",
      " #   Column                Non-Null Count  Dtype  \n",
      "---  ------                --------------  -----  \n",
      " 0   imdb_id               1889 non-null   object \n",
      " 1   budget                1889 non-null   int64  \n",
      " 2   revenue               1889 non-null   int64  \n",
      " 3   original_title        1889 non-null   object \n",
      " 4   cast                  1889 non-null   object \n",
      " 5   director              1889 non-null   object \n",
      " 6   tagline               1889 non-null   object \n",
      " 7   overview              1889 non-null   object \n",
      " 8   runtime               1889 non-null   int64  \n",
      " 9   genres                1889 non-null   object \n",
      " 10  production_companies  1889 non-null   object \n",
      " 11  release_date          1889 non-null   object \n",
      " 12  vote_average          1889 non-null   float64\n",
      " 13  release_year          1889 non-null   int64  \n",
      "dtypes: float64(1), int64(4), object(9)\n",
      "memory usage: 206.7+ KB\n",
      "None\n",
      "\"Задание 2: самый длительный фильм original_title\n",
      "Gods and Generals    214\n",
      "Name: runtime, dtype: int64\n"
     ]
    }
   ],
   "source": [
    "from itertools import combinations\n",
    "\n",
    "import pandas as pd\n",
    "import collections\n",
    "\n",
    "movie = pd.read_csv('movie_bd_v5.csv')\n",
    "print(movie.info())\n",
    "with pd.option_context('display.max_rows', None, 'display.max_columns', None):\n",
    "    movie2 = movie.copy()\n",
    "\n",
    "    movie2 = movie2.groupby(['original_title'])['runtime'].max().sort_values(ascending=False)  # the longest film\n",
    "\n",
    "    print('\"Задание 2: самый длительный фильм', movie2.head(1))"
   ]
  },
  {
   "cell_type": "markdown",
   "metadata": {},
   "source": [
    "Вопрос 3. Какой из фильмов самый короткий (в минутах)?"
   ]
  },
  {
   "cell_type": "code",
   "execution_count": null,
   "metadata": {},
   "outputs": [],
   "source": [
    "from itertools import combinations\n",
    "\n",
    "import pandas as pd\n",
    "import collections\n",
    "\n",
    "movie = pd.read_csv('movie_bd_v5.csv')\n",
    "print(movie.info())\n",
    "with pd.option_context('display.max_rows', None, 'display.max_columns', None):\n",
    "    movie3 = movie.copy()\n",
    "\n",
    "    movie3 = movie3.groupby(['original_title'])['runtime'].min().sort_values(ascending=True)\n",
    "\n",
    "    print('Задание 3:', movie3.head(1))"
   ]
  },
  {
   "cell_type": "markdown",
   "metadata": {},
   "source": [
    "Вопрос 4. Какова средняя длительность фильмов?"
   ]
  },
  {
   "cell_type": "code",
   "execution_count": null,
   "metadata": {},
   "outputs": [],
   "source": [
    "from itertools import combinations\n",
    "\n",
    "import pandas as pd\n",
    "import collections\n",
    "\n",
    "movie = pd.read_csv('movie_bd_v5.csv')\n",
    "print(movie.info())\n",
    "with pd.option_context('display.max_rows', None, 'display.max_columns', None):\n",
    "    movie4 = movie.copy()\n",
    "\n",
    "    movie_result = movie4.runtime.mean()\n",
    "\n",
    "    print('Задание 4:', movie_result)"
   ]
  },
  {
   "cell_type": "markdown",
   "metadata": {},
   "source": [
    "Вопрос 5. Каково медианное значение длительности фильмов?"
   ]
  },
  {
   "cell_type": "code",
   "execution_count": null,
   "metadata": {},
   "outputs": [],
   "source": [
    "from itertools import combinations\n",
    "\n",
    "import pandas as pd\n",
    "import collections\n",
    "\n",
    "movie = pd.read_csv('movie_bd_v5.csv')\n",
    "print(movie.info())\n",
    "with pd.option_context('display.max_rows', None, 'display.max_columns', None):\n",
    "    movie5 = movie.copy()\n",
    "\n",
    "    movie5 = movie5.runtime.median()\n",
    "\n",
    "    print('Задание 5:', movie5)"
   ]
  },
  {
   "cell_type": "markdown",
   "metadata": {},
   "source": [
    "Вопрос 6. Какой фильм самый прибыльный?"
   ]
  },
  {
   "cell_type": "code",
   "execution_count": null,
   "metadata": {},
   "outputs": [],
   "source": [
    "from itertools import combinations\n",
    "\n",
    "import pandas as pd\n",
    "import collections\n",
    "\n",
    "movie = pd.read_csv('movie_bd_v5.csv')\n",
    "print(movie.info())\n",
    "with pd.option_context('display.max_rows', None, 'display.max_columns', None):\n",
    "     movie6 = movie.copy()\n",
    "\n",
    "    # подсчет прибыли\n",
    "    def calc_profit(row):\n",
    "        profit = row['revenue']-row['budget']\n",
    "        return profit\n",
    "\n",
    "\n",
    "    movie6['profit'] = movie6.apply(calc_profit, axis=1)\n",
    "\n",
    "    result = movie6[movie6.profit == movie6.profit.max()].original_title\n",
    "\n",
    "    print('Задание 6:', result)"
   ]
  },
  {
   "cell_type": "markdown",
   "metadata": {},
   "source": [
    "Вопрос 7. Какой фильм самый убыточный?"
   ]
  },
  {
   "cell_type": "code",
   "execution_count": null,
   "metadata": {},
   "outputs": [],
   "source": [
    "from itertools import combinations\n",
    "\n",
    "import pandas as pd\n",
    "import collections\n",
    "\n",
    "movie = pd.read_csv('movie_bd_v5.csv')\n",
    "print(movie.info())\n",
    "with pd.option_context('display.max_rows', None, 'display.max_columns', None):\n",
    "     movie7 = movie.copy()\n",
    "\n",
    "    movie7['profit'] = movie7.apply(calc_profit, axis=1)\n",
    "    min_profit = movie7[movie7.profit == movie7.profit.min()].original_title\n",
    "\n",
    "    print('Задание 7:', min_profit)"
   ]
  },
  {
   "cell_type": "markdown",
   "metadata": {},
   "source": [
    "Вопрос 8. У скольких фильмов из датасета объем сборов оказался выше бюджета?"
   ]
  },
  {
   "cell_type": "code",
   "execution_count": null,
   "metadata": {},
   "outputs": [],
   "source": [
    "from itertools import combinations\n",
    "\n",
    "import pandas as pd\n",
    "import collections\n",
    "\n",
    "movie = pd.read_csv('movie_bd_v5.csv')\n",
    "print(movie.info())\n",
    "with pd.option_context('display.max_rows', None, 'display.max_columns', None):\n",
    "    movie8 = movie.copy()\n",
    "\n",
    "    result = movie8[movie8.revenue > movie8.budget].value_counts()\n",
    "\n",
    "    print('Задание 8:', len(result))"
   ]
  },
  {
   "cell_type": "markdown",
   "metadata": {},
   "source": [
    "Вопрос 9. Какой фильм оказался самым кассовым в 2008 году?"
   ]
  },
  {
   "cell_type": "code",
   "execution_count": null,
   "metadata": {},
   "outputs": [],
   "source": [
    "from itertools import combinations\n",
    "\n",
    "import pandas as pd\n",
    "import collections\n",
    "\n",
    "movie = pd.read_csv('movie_bd_v5.csv')\n",
    "print(movie.info())\n",
    "with pd.option_context('display.max_rows', None, 'display.max_columns', None):\n",
    "    movie9 = movie.copy()\n",
    "\n",
    "    max_profit_2008 = movie9[(movie9.revenue == movie9[movie9.release_year == 2008].revenue.max())].original_title\n",
    "\n",
    "    print('Задание 9:', max_profit_2008)"
   ]
  },
  {
   "cell_type": "markdown",
   "metadata": {},
   "source": [
    "Вопрос 10. Самый убыточный фильм за период с 2012 по 2014 годы (включительно)?"
   ]
  },
  {
   "cell_type": "code",
   "execution_count": null,
   "metadata": {},
   "outputs": [],
   "source": [
    "from itertools import combinations\n",
    "\n",
    "import pandas as pd\n",
    "import collections\n",
    "\n",
    "movie = pd.read_csv('movie_bd_v5.csv')\n",
    "print(movie.info())\n",
    "with pd.option_context('display.max_rows', None, 'display.max_columns', None):\n",
    "    movie10 = movie.copy()\n",
    "\n",
    "    movie10['profit'] = movie.apply(calc_profit, axis=1)\n",
    "\n",
    "    movie_profit_min = movie10.profit.min()  # переменная для обозначения минимальной прибыли\n",
    "\n",
    "    # определение самого убыточного фильма\n",
    "    movie_profit_name = movie10[(movie10.profit == movie_profit_min) & (movie10.release_year >= 2012)\n",
    "                           & (movie10.release_year <= 2014)].original_title\n",
    "\n",
    "    print(\"Задание 10: Самый убыточный фильм \", movie_profit_name, \" за период с 2012 по 2014 годы \")"
   ]
  },
  {
   "cell_type": "markdown",
   "metadata": {},
   "source": [
    "Вопрос 11. Какого жанра фильмов больше всего?"
   ]
  },
  {
   "cell_type": "code",
   "execution_count": null,
   "metadata": {},
   "outputs": [],
   "source": [
    "from itertools import combinations\n",
    "\n",
    "import pandas as pd\n",
    "import collections\n",
    "\n",
    "movie = pd.read_csv('movie_bd_v5.csv')\n",
    "print(movie.info())\n",
    "with pd.option_context('display.max_rows', None, 'display.max_columns', None):\n",
    "     # создание списка жанров:\n",
    "    genres_list = ['Comedy', 'Action', 'Adventure', 'Drama', 'Thriller']\n",
    "\n",
    "    higher_amount = 0\n",
    "\n",
    "    # найти жанры\n",
    "\n",
    "    for genre in genres_list:\n",
    "        cur_amt = len(movie[movie.genres.str.contains(genre, na=False)])\n",
    "        if cur_amt > higher_amount:\n",
    "            higher_amount = cur_amt\n",
    "            higher_amount_genre = genre\n",
    "\n",
    "    print(\"Задание 11: Жанр \", higher_amount_genre, \" у наибольшего количества фильмов \", higher_amount)\n"
   ]
  },
  {
   "cell_type": "markdown",
   "metadata": {},
   "source": [
    "Вопрос 12. Фильмы какого жанра чаще всего становятся прибыльными?"
   ]
  },
  {
   "cell_type": "code",
   "execution_count": null,
   "metadata": {},
   "outputs": [],
   "source": [
    "from itertools import combinations\n",
    "\n",
    "import pandas as pd\n",
    "import collections\n",
    "\n",
    "movie = pd.read_csv('movie_bd_v5.csv')\n",
    "print(movie.info())\n",
    "with pd.option_context('display.max_rows', None, 'display.max_columns', None):\n",
    "    movie12 = movie.copy()\n",
    "\n",
    "    # выбрать прибыльные фильмы\n",
    "\n",
    "    movie12['profit'] = movie12.apply(calc_profit, axis=1)\n",
    "    movie12 = movie12[movie12.profit > 0]\n",
    "\n",
    "    c = collections.Counter()\n",
    "    for i in movie12.genres.str.split('|'):\n",
    "        for j in i:\n",
    "            c[j] += 1\n",
    "    print(max(c, key=c.get))\n",
    "\n",
    "    # найти жанры фильмов\n",
    "    genres_list = ['Comedy', 'Action', 'Adventure', 'Drama', 'Thriller']\n",
    "\n",
    "    higher_amount = 0\n",
    "\n",
    "    # посчитать жанры\n",
    "\n",
    "    for genre in genres_list:\n",
    "        cur_amt = len(movie[movie.genres.str.contains(genre, na=False)])\n",
    "        if cur_amt > higher_amount:\n",
    "            higher_amount = cur_amt\n",
    "            higher_amount_genre = genre\n",
    "\n",
    "    print(\"Задание 12: \", higher_amount_genre)"
   ]
  },
  {
   "cell_type": "markdown",
   "metadata": {},
   "source": [
    "Вопрос 13. У какого режиссёра самые большие суммарные кассовые сборы?"
   ]
  },
  {
   "cell_type": "code",
   "execution_count": null,
   "metadata": {},
   "outputs": [],
   "source": [
    "from itertools import combinations\n",
    "\n",
    "import pandas as pd\n",
    "import collections\n",
    "\n",
    "movie = pd.read_csv('movie_bd_v5.csv')\n",
    "print(movie.info())\n",
    "with pd.option_context('display.max_rows', None, 'display.max_columns', None):\n",
    "    movie13 = movie.copy()\n",
    "\n",
    "    movie13.director = movie13.director.str.encode('latin1').str.decode('utf8')\n",
    "\n",
    "    # поделить режиссеров (split)\n",
    "    movie13['one_director'] = movie13['director'].str.split('|')\n",
    "    directors = movie13.explode('one_director')\n",
    "    print(movie13.one_director)\n",
    "\n",
    "    # отсортировать по режиссеру, найти их суммарную кассу\n",
    "\n",
    "    result = directors.groupby(['one_director']).revenue.sum()\n",
    "    print(\"Задание 13: \", result.sort_values(ascending=False).head(1))"
   ]
  },
  {
   "cell_type": "markdown",
   "metadata": {},
   "source": [
    "Вопрос 14. Какой режиссер снял больше всего фильмов в стиле Action?"
   ]
  },
  {
   "cell_type": "code",
   "execution_count": null,
   "metadata": {},
   "outputs": [],
   "source": [
    "from itertools import combinations\n",
    "\n",
    "import pandas as pd\n",
    "import collections\n",
    "\n",
    "movie = pd.read_csv('movie_bd_v5.csv')\n",
    "print(movie.info())\n",
    "with pd.option_context('display.max_rows', None, 'display.max_columns', None):\n",
    "    movie14 = movie.copy()\n",
    "    action_movies = movie14[movie14.genres.str.contains('Action', na=False)]\n",
    "\n",
    "    # поделить режиссеров (split) и размножить строчки\n",
    "    action_movies['one_director'] = action_movies['director'].str.split('|')\n",
    "    action_movies = action_movies.explode('one_director')\n",
    "\n",
    "    # посчитать суммарную кассу режиссеров (split)\n",
    "    result = action_movies.groupby(['one_director']).one_director.value_counts()\n",
    "\n",
    "    print(\"Задание 14: \", result.sort_values(ascending=False).head(1))"
   ]
  },
  {
   "cell_type": "markdown",
   "metadata": {},
   "source": [
    "Вопрос 15. Фильмы с каким актером принесли самые высокие кассовые сборы в 2012 году?"
   ]
  },
  {
   "cell_type": "code",
   "execution_count": null,
   "metadata": {},
   "outputs": [],
   "source": [
    "from itertools import combinations\n",
    "\n",
    "import pandas as pd\n",
    "import collections\n",
    "\n",
    "movie = pd.read_csv('movie_bd_v5.csv')\n",
    "print(movie.info())\n",
    "with pd.option_context('display.max_rows', None, 'display.max_columns', None):\n",
    "    movie15 = movie.copy()\n",
    "\n",
    "    # выделить фильмы 2012 года\n",
    "    movies_2012 = movie15[movie15.release_year == 2012]\n",
    "\n",
    "    # разделить актеров на строчки\n",
    "    movies_2012['one_actor'] = movies_2012['cast'].str.split('|')\n",
    "    movies_2012 = movies_2012.explode('one_actor')\n",
    "\n",
    "    # отсортировать по кассовым сборам\n",
    "    result = movies_2012.groupby(['one_actor'])['revenue', 'original_title'].sum().sort_values(['revenue'], ascending=False)\n",
    "\n",
    "    print(\"Задание 15: \", result.head(5))"
   ]
  },
  {
   "cell_type": "markdown",
   "metadata": {},
   "source": [
    "Вопрос 16. Какой актер снялся в большем количестве фильмов?\n",
    "     Примечание: в фильмах, где бюджет выше среднего по данной выборке."
   ]
  },
  {
   "cell_type": "code",
   "execution_count": null,
   "metadata": {},
   "outputs": [],
   "source": [
    "from itertools import combinations\n",
    "\n",
    "import pandas as pd\n",
    "import collections\n",
    "\n",
    "movie = pd.read_csv('movie_bd_v5.csv')\n",
    "print(movie.info())\n",
    "with pd.option_context('display.max_rows', None, 'display.max_columns', None):\n",
    "     movie16 = movie.copy()\n",
    "\n",
    "    high_budget_films = movie16[movie16.budget > movie16.budget.mean()]\n",
    "\n",
    "    # разделить актеров на строчки\n",
    "    high_budget_films['one_actor'] = high_budget_films['cast'].str.split('|')\n",
    "    high_budget_films = high_budget_films.explode('one_actor')\n",
    "\n",
    "    result = high_budget_films.one_actor.value_counts()\n",
    "\n",
    "    print(\"Задание 16: \", result)"
   ]
  },
  {
   "cell_type": "markdown",
   "metadata": {},
   "source": [
    "Вопрос 17. В фильмах какого жанра больше всего снимался Nicolas Cage?"
   ]
  },
  {
   "cell_type": "code",
   "execution_count": null,
   "metadata": {},
   "outputs": [],
   "source": [
    "from itertools import combinations\n",
    "\n",
    "import pandas as pd\n",
    "import collections\n",
    "\n",
    "movie = pd.read_csv('movie_bd_v5.csv')\n",
    "print(movie.info())\n",
    "with pd.option_context('display.max_rows', None, 'display.max_columns', None):\n",
    "    movie17 = movie.copy()\n",
    "\n",
    "    # отобрать фильмы Н. Кейджа\n",
    "    nic_films = movie17[movie17.cast.str.contains('Nicolas Cage')]\n",
    "\n",
    "    # выделить жанры\n",
    "    nic_films['one_genre'] = nic_films['genres'].str.split('|')\n",
    "    nic_films = nic_films.explode('one_genre')\n",
    "\n",
    "    # посчитать жанры\n",
    "    result = nic_films.one_genre.value_counts()\n",
    "\n",
    "    print(\"Задание 17: \", result.head(1))"
   ]
  },
  {
   "cell_type": "markdown",
   "metadata": {},
   "source": [
    "Вопрос 18. Самый убыточный фильм от Paramount Pictures?"
   ]
  },
  {
   "cell_type": "code",
   "execution_count": null,
   "metadata": {},
   "outputs": [],
   "source": [
    "from itertools import combinations\n",
    "\n",
    "import pandas as pd\n",
    "import collections\n",
    "\n",
    "movie = pd.read_csv('movie_bd_v5.csv')\n",
    "print(movie.info())\n",
    "with pd.option_context('display.max_rows', None, 'display.max_columns', None):\n",
    "    movie18 = movie.copy()\n",
    "\n",
    "    # отобрать фильмы Paramount Pictures\n",
    "    para_pic_films = movie18[movie18.production_companies.str.contains('Paramount Pictures')]\n",
    "\n",
    "    # вызвать функцию calc_profit\n",
    "    para_pic_films['profit'] = para_pic_films.apply(calc_profit, axis=1)\n",
    "\n",
    "    # найти самый убыточный фильм\n",
    "    result = para_pic_films[para_pic_films.profit == para_pic_films.profit.min()].original_title\n",
    "\n",
    "    print(\"Задание 18: \", result)"
   ]
  },
  {
   "cell_type": "markdown",
   "metadata": {},
   "source": [
    "Вопрос 19. Какой год стал самым успешным по суммарным кассовым сборам?"
   ]
  },
  {
   "cell_type": "code",
   "execution_count": null,
   "metadata": {},
   "outputs": [],
   "source": [
    "from itertools import combinations\n",
    "\n",
    "import pandas as pd\n",
    "import collections\n",
    "\n",
    "movie = pd.read_csv('movie_bd_v5.csv')\n",
    "print(movie.info())\n",
    "with pd.option_context('display.max_rows', None, 'display.max_columns', None):\n",
    "     movie19 = movie.copy()\n",
    "\n",
    "    result = movie19.groupby(['release_year']).revenue.sum().sort_values(ascending=False)\n",
    "\n",
    "    print(\"Задание 19: \", result)"
   ]
  },
  {
   "cell_type": "markdown",
   "metadata": {},
   "source": [
    "Вопрос 20. Какой самый прибыльный год для студии Warner Bros?"
   ]
  },
  {
   "cell_type": "code",
   "execution_count": null,
   "metadata": {},
   "outputs": [],
   "source": [
    "from itertools import combinations\n",
    "\n",
    "import pandas as pd\n",
    "import collections\n",
    "\n",
    "movie = pd.read_csv('movie_bd_v5.csv')\n",
    "print(movie.info())\n",
    "with pd.option_context('display.max_rows', None, 'display.max_columns', None):\n",
    "    movie20 = movie.copy()\n",
    "\n",
    "    # отобрать фильмы Warner Bros.\n",
    "    wb_movies = movie20[movie20.production_companies.str.contains('Warner Bros')]\n",
    "\n",
    "    # вызвать функцию calc_profit\n",
    "    wb_movies['profit'] = wb_movies.apply(calc_profit, axis=1)\n",
    "\n",
    "    # сгруппировать по годам\n",
    "    result = wb_movies.groupby(['release_year']).profit.sum().sort_values(ascending=False)\n",
    "    print(\"Задание 20: \", result.head(1))"
   ]
  },
  {
   "cell_type": "markdown",
   "metadata": {},
   "source": [
    "Вопрос 21. В каком месяце за все годы суммарно вышло больше всего фильмов?"
   ]
  },
  {
   "cell_type": "code",
   "execution_count": null,
   "metadata": {},
   "outputs": [],
   "source": [
    "from itertools import combinations\n",
    "\n",
    "import pandas as pd\n",
    "import collections\n",
    "\n",
    "movie = pd.read_csv('movie_bd_v5.csv')\n",
    "print(movie.info())\n",
    "with pd.option_context('display.max_rows', None, 'display.max_columns', None):\n",
    "    movie21 = movie.copy()\n",
    "\n",
    "    # функция, выделяющая месяц из release_date\n",
    "    def extract_month(row):\n",
    "        month = row['release_date'].split('/')\n",
    "        return month[0]\n",
    "\n",
    "    # вызов функции, находим месяц, считаем количество\n",
    "    movie21['month'] = movie21.apply(extract_month, axis=1)\n",
    "    movie21 = movie21.month.value_counts(sort=True, ascending=False)\n",
    "\n",
    "    print(\"Задание 21: \", movie21)"
   ]
  },
  {
   "cell_type": "markdown",
   "metadata": {},
   "source": [
    "Вопрос 22. Сколько суммарно вышло фильмов летом (за июнь, июль, август)?"
   ]
  },
  {
   "cell_type": "code",
   "execution_count": null,
   "metadata": {},
   "outputs": [],
   "source": [
    "from itertools import combinations\n",
    "\n",
    "import pandas as pd\n",
    "import collections\n",
    "\n",
    "movie = pd.read_csv('movie_bd_v5.csv')\n",
    "print(movie.info())\n",
    "with pd.option_context('display.max_rows', None, 'display.max_columns', None):\n",
    "    movie22 = movie.copy()\n",
    "\n",
    "    # вызов функции extract_month\n",
    "    movie22['month'] = movie22.apply(extract_month, axis=1)\n",
    "\n",
    "    # считаем летние месяцы\n",
    "    result = movie22[movie22.month.str.contains('6|7|8')].month.value_counts().sum()\n",
    "\n",
    "    print(\"Задание 22: \", result)"
   ]
  },
  {
   "cell_type": "markdown",
   "metadata": {},
   "source": [
    "Вопрос 23. Для какого режиссера зима — самое продуктивное время года?"
   ]
  },
  {
   "cell_type": "code",
   "execution_count": null,
   "metadata": {},
   "outputs": [],
   "source": [
    "from itertools import combinations\n",
    "\n",
    "import pandas as pd\n",
    "import collections\n",
    "\n",
    "movie = pd.read_csv('movie_bd_v5.csv')\n",
    "print(movie.info())\n",
    "with pd.option_context('display.max_rows', None, 'display.max_columns', None):\n",
    "    movie23 = movie.copy()\n",
    "\n",
    "    # функция, выделяющая сезоны\n",
    "    def get_season(row):\n",
    "        month = extract_month(row)\n",
    "        if month in '345':\n",
    "            return 'spring'\n",
    "        elif month in '678':\n",
    "            return 'summer'\n",
    "        elif month in '91011':\n",
    "            return 'autumn'\n",
    "        else:\n",
    "            return 'winter'\n",
    "\n",
    "\n",
    "    movie23['season'] = movie23.apply(get_season, axis=1)\n",
    "\n",
    "    # разделяем режиссеров, выделяем в отдельную колонку\n",
    "    movie23['one_director'] = movie23['director'].str.split('|')\n",
    "    month_director = movie23.explode('one_director')\n",
    "\n",
    "    # определяем зимних рекордсменов\n",
    "    movie23 = movie23[movie23['season'] == 'winter'].one_director.value_counts()\n",
    "    print(\"Задание 23: \", movie23.head())"
   ]
  },
  {
   "cell_type": "markdown",
   "metadata": {},
   "source": [
    "Вопрос 24. Какая студия даёт самые длинные названия своим фильмам по количеству символов?"
   ]
  },
  {
   "cell_type": "code",
   "execution_count": null,
   "metadata": {},
   "outputs": [],
   "source": [
    "from itertools import combinations\n",
    "import pandas as pd\n",
    "import collections\n",
    "\n",
    "movie = pd.read_csv('movie_bd_v5.csv')\n",
    "print(movie.info())\n",
    "with pd.option_context('display.max_rows', None, 'display.max_columns', None):\n",
    "    movie24 = movie.copy()\n",
    "\n",
    "    # выделяем студии в отдельную колонку\n",
    "    movie24['studio'] = movie24['production_companies'].str.split('|')\n",
    "    company = movie24.explode('studio')\n",
    "\n",
    "    # считаем длину названий фильмов, сортиоуем по длине\n",
    "    company['name_length'] = company['original_title'].str.len()\n",
    "    company = company.groupby(['studio']).name_length.mean().sort_values(ascending=False)\n",
    "\n",
    "    print(\"Задание 24: \", company.head())"
   ]
  },
  {
   "cell_type": "markdown",
   "metadata": {},
   "source": [
    "Вопрос 25. Описания фильмов какой студии в среднем самые длинные по количеству слов?"
   ]
  },
  {
   "cell_type": "code",
   "execution_count": null,
   "metadata": {},
   "outputs": [],
   "source": [
    "from itertools import combinations\n",
    "import pandas as pd\n",
    "import collections\n",
    "\n",
    "movie = pd.read_csv('movie_bd_v5.csv')\n",
    "print(movie.info())\n",
    "with pd.option_context('display.max_rows', None, 'display.max_columns', None):\n",
    "    movie25 = movie.copy()\n",
    "\n",
    "    # выделяем студии в отдельную колонку\n",
    "    movie25['studios'] = movie25['production_companies'].str.split('|')\n",
    "    company = movie25.explode('studios')\n",
    "\n",
    "    # функция, считающая слова\n",
    "    def count_words(row):\n",
    "        word = 1\n",
    "        for s in row['tagline']:\n",
    "            if s == ' ':\n",
    "                word = word + 1\n",
    "        return word\n",
    "\n",
    "\n",
    "    company['quant_words'] = company.apply(count_words, axis=1)\n",
    "\n",
    "    # считаем компании\n",
    "    company = company[company.studios.str.contains('Universal Pictures|Warner Bros|'\n",
    "                                                   'Midnight Picture Show|Paramount Pictures|Total Entertainment')]\n",
    "    print(company[['studios', 'quant_words']].sort_values(['quant_words'], ascending=False).head())\n",
    "\n",
    "    company = company.groupby(['studios']).quant_words.mean().sort_values(ascending=False)\n",
    "    print(\"Задание 25: \", company)"
   ]
  },
  {
   "cell_type": "markdown",
   "metadata": {},
   "source": [
    "Вопрос 26. Какие фильмы входят в один процент лучших по рейтингу?"
   ]
  },
  {
   "cell_type": "code",
   "execution_count": null,
   "metadata": {},
   "outputs": [],
   "source": [
    "from itertools import combinations\n",
    "import pandas as pd\n",
    "import collections\n",
    "\n",
    "movie = pd.read_csv('movie_bd_v5.csv')\n",
    "print(movie.info())\n",
    "with pd.option_context('display.max_rows', None, 'display.max_columns', None):\n",
    "    movie26 = movie.copy()\n",
    "\n",
    "    # отбираем фильмы по рейтингу\n",
    "    movie26 = movie26.loc[movie26['vote_average'] >\n",
    "                          movie26.quantile(0.99, numeric_only=True)['vote_average']]['original_title']\n",
    "\n",
    "    print(\"Задание 26: \", movie26)"
   ]
  },
  {
   "cell_type": "markdown",
   "metadata": {},
   "source": [
    "Вопрос 27. Какие актеры чаще всего снимаются в одном фильме вместе?"
   ]
  },
  {
   "cell_type": "code",
   "execution_count": null,
   "metadata": {},
   "outputs": [],
   "source": [
    "from itertools import combinations\n",
    "import pandas as pd\n",
    "import collections\n",
    "\n",
    "movie = pd.read_csv('movie_bd_v5.csv')\n",
    "print(movie.info())\n",
    "with pd.option_context('display.max_rows', None, 'display.max_columns', None):\n",
    "    movie27 = movie.copy()\n",
    "\n",
    "    def combo(row):\n",
    "\n",
    "        for row in movie27['cast']:\n",
    "            # в каждой строчке дф, в колонке 'cast' из строки создать список актёров.\n",
    "\n",
    "            # actors_list = (movie27[movie27.cast]).row.to_list()\n",
    "            actors_list = row['cast'].UserString()\n",
    "\n",
    "            # в списке составить пары.\n",
    "            for actors in actors_list:\n",
    "                actor_pairs = combinations(actors_list, 2)\n",
    "        return actor_pairs\n",
    "\n",
    "\n",
    "    # Посчитать количество пар. по всему дф.\n",
    "    movie27['actor_pairs'] = movie27.apply(combo, axis=1)\n",
    "    s = pd.Series(movie27['actor_pairs']).value_counts()\n",
    "\n",
    "    print(\"Задание 27: \", s)"
   ]
  }
 ],
 "metadata": {
  "kernelspec": {
   "display_name": "Python 3",
   "language": "python",
   "name": "python3"
  },
  "language_info": {
   "codemirror_mode": {
    "name": "ipython",
    "version": 3
   },
   "file_extension": ".py",
   "mimetype": "text/x-python",
   "name": "python",
   "nbconvert_exporter": "python",
   "pygments_lexer": "ipython3",
   "version": "3.7.6"
  }
 },
 "nbformat": 4,
 "nbformat_minor": 4
}
